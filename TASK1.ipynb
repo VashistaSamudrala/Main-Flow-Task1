{
  "cells": [
    {
      "cell_type": "code",
      "execution_count": null,
      "metadata": {
        "colab": {
          "base_uri": "https://localhost:8080/"
        },
        "id": "4FpQdP9-sZ6R",
        "outputId": "2f3a4918-e113-4f61-92b6-dc7a43ff506f"
      },
      "outputs": [
        {
          "name": "stdout",
          "output_type": "stream",
          "text": [
            "Updated List: [10, 2, 4, 5, 6]\n"
          ]
        }
      ],
      "source": [
        "#LIST:\n",
        "#Creating a list\n",
        "my_list =[1,2,3,4,5]\n",
        "my_list.append(6) #adding element to list(here append is used, So the element is added at end )\n",
        "my_list.remove(3) #removing an element from list\n",
        "my_list[0] = 10 #modifying the element in list in indexing\n",
        "print(\"Updated List:\", my_list)"
      ]
    },
    {
      "cell_type": "code",
      "execution_count": null,
      "metadata": {
        "colab": {
          "base_uri": "https://localhost:8080/"
        },
        "id": "LiUv_QJdxz8a",
        "outputId": "854b5cce-9265-46d5-b0fe-4f71d0812fe8"
      },
      "outputs": [
        {
          "name": "stdout",
          "output_type": "stream",
          "text": [
            "Updated Dictionary: {'name': 'vashista', 'city': 'Mumbai', 'gender': 'female'}\n"
          ]
        }
      ],
      "source": [
        "#DICTIONARY:\n",
        "#Creating a dictionary\n",
        "my_dict = {'name':'vashista', 'age': 25, 'city': 'Delhi'}\n",
        "my_dict['gender'] = 'female' #adding elements\n",
        "del my_dict['age'] #removing\n",
        "my_dict['city']='Mumbai'  #modifying\n",
        "print(\"Updated Dictionary:\", my_dict)\n"
      ]
    },
    {
      "cell_type": "code",
      "execution_count": null,
      "metadata": {
        "colab": {
          "base_uri": "https://localhost:8080/"
        },
        "id": "5I5MgFWZ0Mto",
        "outputId": "f347758e-6e6c-4c23-cad5-955735d49095"
      },
      "outputs": [
        {
          "name": "stdout",
          "output_type": "stream",
          "text": [
            "Updated Set : {2, 4, 5, 6, 10}\n"
          ]
        }
      ],
      "source": [
        "#SET:\n",
        "#creating a set\n",
        "my_set = {1,2,3,4,5}\n",
        "my_set.add(6) #addingvalues\n",
        "my_set.remove(3) #removing\n",
        "my_set.discard(1)#modifying\n",
        "my_set.add(10)\n",
        "print(\"Updated Set :\", my_set)"
      ]
    }
  ],
  "metadata": {
    "colab": {
      "provenance": [],
      "toc_visible": true
    },
    "kernelspec": {
      "display_name": "Python 3",
      "name": "python3"
    },
    "language_info": {
      "name": "python"
    }
  },
  "nbformat": 4,
  "nbformat_minor": 0
}
